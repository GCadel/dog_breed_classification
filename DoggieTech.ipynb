{
 "cells": [
  {
   "cell_type": "markdown",
   "metadata": {},
   "source": [
    "# DoggieTech Dog Image Classifier\n",
    "A machine learning model to identify a dog breed"
   ]
  },
  {
   "cell_type": "code",
   "execution_count": 1,
   "metadata": {},
   "outputs": [
    {
     "name": "stdout",
     "output_type": "stream",
     "text": [
      "Requirement already satisfied: kaggle in c:\\users\\tap\\anaconda3\\lib\\site-packages (1.6.17)\n",
      "Requirement already satisfied: six>=1.10 in c:\\users\\tap\\anaconda3\\lib\\site-packages (from kaggle) (1.16.0)\n",
      "Requirement already satisfied: certifi>=2023.7.22 in c:\\users\\tap\\anaconda3\\lib\\site-packages (from kaggle) (2024.12.14)\n",
      "Requirement already satisfied: python-dateutil in c:\\users\\tap\\anaconda3\\lib\\site-packages (from kaggle) (2.9.0.post0)\n",
      "Requirement already satisfied: requests in c:\\users\\tap\\anaconda3\\lib\\site-packages (from kaggle) (2.32.3)\n",
      "Requirement already satisfied: tqdm in c:\\users\\tap\\anaconda3\\lib\\site-packages (from kaggle) (4.66.5)\n",
      "Requirement already satisfied: python-slugify in c:\\users\\tap\\anaconda3\\lib\\site-packages (from kaggle) (5.0.2)\n",
      "Requirement already satisfied: urllib3 in c:\\users\\tap\\anaconda3\\lib\\site-packages (from kaggle) (2.2.3)\n",
      "Requirement already satisfied: bleach in c:\\users\\tap\\anaconda3\\lib\\site-packages (from kaggle) (4.1.0)\n",
      "Requirement already satisfied: packaging in c:\\users\\tap\\anaconda3\\lib\\site-packages (from bleach->kaggle) (24.1)\n",
      "Requirement already satisfied: webencodings in c:\\users\\tap\\anaconda3\\lib\\site-packages (from bleach->kaggle) (0.5.1)\n",
      "Requirement already satisfied: text-unidecode>=1.3 in c:\\users\\tap\\anaconda3\\lib\\site-packages (from python-slugify->kaggle) (1.3)\n",
      "Requirement already satisfied: charset-normalizer<4,>=2 in c:\\users\\tap\\anaconda3\\lib\\site-packages (from requests->kaggle) (3.3.2)\n",
      "Requirement already satisfied: idna<4,>=2.5 in c:\\users\\tap\\anaconda3\\lib\\site-packages (from requests->kaggle) (3.7)\n",
      "Requirement already satisfied: colorama in c:\\users\\tap\\anaconda3\\lib\\site-packages (from tqdm->kaggle) (0.4.6)\n",
      "Dataset URL: https://www.kaggle.com/datasets/jessicali9530/stanford-dogs-dataset\n",
      "License(s): other\n",
      "stanford-dogs-dataset.zip: Skipping, found more recently modified local copy (use --force to force download)\n"
     ]
    }
   ],
   "source": [
    "# Get dataset from Kaggle\n",
    "!pip install kaggle\n",
    "!kaggle datasets download -d jessicali9530/stanford-dogs-dataset"
   ]
  },
  {
   "cell_type": "markdown",
   "metadata": {},
   "source": [
    "## Python Imports"
   ]
  },
  {
   "cell_type": "code",
   "execution_count": 2,
   "metadata": {},
   "outputs": [],
   "source": [
    "import os\n",
    "import matplotlib.pyplot as plt\n",
    "import numpy as np\n",
    "import zipfile\n",
    "import pandas as pd\n",
    "import PIL\n",
    "from PIL import Image\n",
    "import imageio.v3 as iio\n",
    "import skimage as ski\n",
    "import xml.etree.ElementTree as ET\n"
   ]
  },
  {
   "cell_type": "markdown",
   "metadata": {},
   "source": [
    "## Unzip dataset for use"
   ]
  },
  {
   "cell_type": "code",
   "execution_count": 4,
   "metadata": {},
   "outputs": [],
   "source": [
    "with zipfile.ZipFile(\"stanford-dogs-dataset.zip\", \"r\") as z:\n",
    "  z.extractall(\"sd_dataset\")"
   ]
  },
  {
   "cell_type": "code",
   "execution_count": 3,
   "metadata": {},
   "outputs": [],
   "source": [
    "def convertImgToNpArray(anImage: Image):\n",
    "  return np.array(anImage)\n",
    "\n",
    "def cropImage(anImage, boundingBox: tuple):\n",
    "  return anImage.crop(boundingBox)\n",
    "\n",
    "def displayImage(anImageArray: np.array):\n",
    "  plt.imshow(anImageArray)\n",
    "  return"
   ]
  },
  {
   "cell_type": "code",
   "execution_count": 72,
   "metadata": {},
   "outputs": [],
   "source": [
    "def annotationParse(annotationDir : str, imageDir : str):\n",
    "  annotationDict = [['id', 'breed','image location','xStart', 'yStart', 'xEnd', 'yEnd']]\n",
    "\n",
    "  # For every cateogory (aka dog breed)\n",
    "  for breedDir in os.listdir(annotationDir):\n",
    "    # print(breedDir)\n",
    "    # For every dog\n",
    "    for sampleDog in os.listdir(os.path.join(annotationDir, breedDir)):\n",
    "      # Generate XML root\n",
    "      tree = ET.parse(os.path.join(annotationDir, breedDir, sampleDog))  \n",
    "      root = tree.getroot()\n",
    "      # Set dog image\n",
    "      dogImg = os.path.join(imageDir, breedDir, sampleDog + \".jpg\")\n",
    "      # Get dog breed\n",
    "      dogBreed = root[5][0].text\n",
    "      # Get dog ID / file name (annotation file name)\n",
    "      dogID = sampleDog\n",
    "      # Get image bounding box\n",
    "      xStart, yStart, xEnd, yEnd = (\n",
    "        root[5][4][0].text,\n",
    "        root[5][4][1].text,\n",
    "        root[5][4][2].text,\n",
    "        root[5][4][3].text\n",
    "        )\n",
    "      # Add dog info to dictionary\n",
    "      annotationDict.append([dogID, dogBreed, dogImg, xStart, yStart, xEnd, yEnd])\n",
    "\n",
    "  annotationDict = np.array(annotationDict)\n",
    "  return pd.DataFrame(annotationDict[1:], columns=annotationDict[0])"
   ]
  },
  {
   "cell_type": "markdown",
   "metadata": {},
   "source": [
    "## Organizing the images into a dataset"
   ]
  },
  {
   "cell_type": "code",
   "execution_count": null,
   "metadata": {},
   "outputs": [
    {
     "data": {
      "text/html": [
       "<div>\n",
       "<style scoped>\n",
       "    .dataframe tbody tr th:only-of-type {\n",
       "        vertical-align: middle;\n",
       "    }\n",
       "\n",
       "    .dataframe tbody tr th {\n",
       "        vertical-align: top;\n",
       "    }\n",
       "\n",
       "    .dataframe thead th {\n",
       "        text-align: right;\n",
       "    }\n",
       "</style>\n",
       "<table border=\"1\" class=\"dataframe\">\n",
       "  <thead>\n",
       "    <tr style=\"text-align: right;\">\n",
       "      <th></th>\n",
       "      <th>id</th>\n",
       "      <th>breed</th>\n",
       "      <th>image location</th>\n",
       "      <th>xStart</th>\n",
       "      <th>yStart</th>\n",
       "      <th>xEnd</th>\n",
       "      <th>yEnd</th>\n",
       "    </tr>\n",
       "  </thead>\n",
       "  <tbody>\n",
       "    <tr>\n",
       "      <th>0</th>\n",
       "      <td>n02085620_10074</td>\n",
       "      <td>Chihuahua</td>\n",
       "      <td>sd_dataset\\images\\Images\\n02085620-Chihuahua\\n...</td>\n",
       "      <td>25</td>\n",
       "      <td>10</td>\n",
       "      <td>276</td>\n",
       "      <td>498</td>\n",
       "    </tr>\n",
       "    <tr>\n",
       "      <th>1</th>\n",
       "      <td>n02085620_10131</td>\n",
       "      <td>Chihuahua</td>\n",
       "      <td>sd_dataset\\images\\Images\\n02085620-Chihuahua\\n...</td>\n",
       "      <td>49</td>\n",
       "      <td>9</td>\n",
       "      <td>393</td>\n",
       "      <td>493</td>\n",
       "    </tr>\n",
       "    <tr>\n",
       "      <th>2</th>\n",
       "      <td>n02085620_10621</td>\n",
       "      <td>Chihuahua</td>\n",
       "      <td>sd_dataset\\images\\Images\\n02085620-Chihuahua\\n...</td>\n",
       "      <td>142</td>\n",
       "      <td>43</td>\n",
       "      <td>335</td>\n",
       "      <td>250</td>\n",
       "    </tr>\n",
       "    <tr>\n",
       "      <th>3</th>\n",
       "      <td>n02085620_1073</td>\n",
       "      <td>Chihuahua</td>\n",
       "      <td>sd_dataset\\images\\Images\\n02085620-Chihuahua\\n...</td>\n",
       "      <td>0</td>\n",
       "      <td>27</td>\n",
       "      <td>312</td>\n",
       "      <td>498</td>\n",
       "    </tr>\n",
       "    <tr>\n",
       "      <th>4</th>\n",
       "      <td>n02085620_10976</td>\n",
       "      <td>Chihuahua</td>\n",
       "      <td>sd_dataset\\images\\Images\\n02085620-Chihuahua\\n...</td>\n",
       "      <td>90</td>\n",
       "      <td>104</td>\n",
       "      <td>242</td>\n",
       "      <td>452</td>\n",
       "    </tr>\n",
       "  </tbody>\n",
       "</table>\n",
       "</div>"
      ],
      "text/plain": [
       "                id      breed  \\\n",
       "0  n02085620_10074  Chihuahua   \n",
       "1  n02085620_10131  Chihuahua   \n",
       "2  n02085620_10621  Chihuahua   \n",
       "3   n02085620_1073  Chihuahua   \n",
       "4  n02085620_10976  Chihuahua   \n",
       "\n",
       "                                      image location xStart yStart xEnd yEnd  \n",
       "0  sd_dataset\\images\\Images\\n02085620-Chihuahua\\n...     25     10  276  498  \n",
       "1  sd_dataset\\images\\Images\\n02085620-Chihuahua\\n...     49      9  393  493  \n",
       "2  sd_dataset\\images\\Images\\n02085620-Chihuahua\\n...    142     43  335  250  \n",
       "3  sd_dataset\\images\\Images\\n02085620-Chihuahua\\n...      0     27  312  498  \n",
       "4  sd_dataset\\images\\Images\\n02085620-Chihuahua\\n...     90    104  242  452  "
      ]
     },
     "execution_count": 73,
     "metadata": {},
     "output_type": "execute_result"
    }
   ],
   "source": [
    "annotationDir = os.path.join(\"sd_dataset\",\"annotations\",\"Annotation\")\n",
    "imageDir = os.path.join(\"sd_dataset\",\"images\",\"Images\")\n",
    "\n",
    "dataFrame=annotationParse(annotationDir=annotationDir, imageDir=imageDir)\n",
    "dataFrame.head()\n"
   ]
  },
  {
   "cell_type": "code",
   "execution_count": 80,
   "metadata": {},
   "outputs": [],
   "source": [
    "# Take a DataFrame and generate labels and data for training\n",
    "def createLabelAndDataLists(dataFrame: pd.DataFrame):\n",
    "  data = []\n",
    "  labels = []\n",
    "  for item in dataFrame.itertuples():\n",
    "    boundingBox = (int(item[4]), int(item[5]), int(item[6]), int(item[7]))\n",
    "    image = Image.open(item[3], 'r')\n",
    "    formattedImage = convertImgToNpArray(cropImage(anImage=image, boundingBox=boundingBox))\n",
    "    image.close()\n",
    "    data.append(formattedImage)\n",
    "    labels.append(item[2])\n",
    "  return data, labels\n"
   ]
  },
  {
   "cell_type": "code",
   "execution_count": null,
   "metadata": {},
   "outputs": [],
   "source": [
    "\n",
    "data, labels = createLabelAndDataLists(dataFrame=dataFrame)\n",
    "# for i in range(10):\n",
    "#   plt.figure()\n",
    "#   plt.imshow(data[i])"
   ]
  },
  {
   "cell_type": "markdown",
   "metadata": {},
   "source": [
    "## Creating the model"
   ]
  },
  {
   "cell_type": "code",
   "execution_count": null,
   "metadata": {},
   "outputs": [],
   "source": []
  }
 ],
 "metadata": {
  "kernelspec": {
   "display_name": "base",
   "language": "python",
   "name": "python3"
  },
  "language_info": {
   "codemirror_mode": {
    "name": "ipython",
    "version": 3
   },
   "file_extension": ".py",
   "mimetype": "text/x-python",
   "name": "python",
   "nbconvert_exporter": "python",
   "pygments_lexer": "ipython3",
   "version": "3.12.7"
  }
 },
 "nbformat": 4,
 "nbformat_minor": 2
}
