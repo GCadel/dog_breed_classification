{
 "cells": [
  {
   "cell_type": "markdown",
   "metadata": {},
   "source": [
    "# Hello, World\n",
    "This is the dog breed classifying machine learning model."
   ]
  },
  {
   "cell_type": "code",
   "execution_count": 29,
   "metadata": {},
   "outputs": [
    {
     "name": "stdout",
     "output_type": "stream",
     "text": [
      "Requirement already satisfied: kaggle in c:\\users\\tap\\anaconda3\\lib\\site-packages (1.6.17)\n",
      "Requirement already satisfied: six>=1.10 in c:\\users\\tap\\anaconda3\\lib\\site-packages (from kaggle) (1.16.0)\n",
      "Requirement already satisfied: certifi>=2023.7.22 in c:\\users\\tap\\anaconda3\\lib\\site-packages (from kaggle) (2024.12.14)\n",
      "Requirement already satisfied: python-dateutil in c:\\users\\tap\\anaconda3\\lib\\site-packages (from kaggle) (2.9.0.post0)\n",
      "Requirement already satisfied: requests in c:\\users\\tap\\anaconda3\\lib\\site-packages (from kaggle) (2.32.3)\n",
      "Requirement already satisfied: tqdm in c:\\users\\tap\\anaconda3\\lib\\site-packages (from kaggle) (4.66.5)\n",
      "Requirement already satisfied: python-slugify in c:\\users\\tap\\anaconda3\\lib\\site-packages (from kaggle) (5.0.2)\n",
      "Requirement already satisfied: urllib3 in c:\\users\\tap\\anaconda3\\lib\\site-packages (from kaggle) (2.2.3)\n",
      "Requirement already satisfied: bleach in c:\\users\\tap\\anaconda3\\lib\\site-packages (from kaggle) (4.1.0)\n",
      "Requirement already satisfied: packaging in c:\\users\\tap\\anaconda3\\lib\\site-packages (from bleach->kaggle) (24.1)\n",
      "Requirement already satisfied: webencodings in c:\\users\\tap\\anaconda3\\lib\\site-packages (from bleach->kaggle) (0.5.1)\n",
      "Requirement already satisfied: text-unidecode>=1.3 in c:\\users\\tap\\anaconda3\\lib\\site-packages (from python-slugify->kaggle) (1.3)\n",
      "Requirement already satisfied: charset-normalizer<4,>=2 in c:\\users\\tap\\anaconda3\\lib\\site-packages (from requests->kaggle) (3.3.2)\n",
      "Requirement already satisfied: idna<4,>=2.5 in c:\\users\\tap\\anaconda3\\lib\\site-packages (from requests->kaggle) (3.7)\n",
      "Requirement already satisfied: colorama in c:\\users\\tap\\anaconda3\\lib\\site-packages (from tqdm->kaggle) (0.4.6)\n",
      "Dataset URL: https://www.kaggle.com/datasets/jessicali9530/stanford-dogs-dataset\n",
      "License(s): other\n",
      "stanford-dogs-dataset.zip: Skipping, found more recently modified local copy (use --force to force download)\n"
     ]
    }
   ],
   "source": [
    "# Kaggle setup\n",
    "!pip install kaggle\n",
    "!kaggle datasets download -d jessicali9530/stanford-dogs-dataset"
   ]
  },
  {
   "cell_type": "code",
   "execution_count": 30,
   "metadata": {},
   "outputs": [],
   "source": [
    "\n",
    "# Python Imports\n",
    "import zipfile\n",
    "import pandas as pd\n",
    "import numpy as np\n",
    "import scipy\n",
    "import xml.etree.ElementTree as ET\n",
    "# import kagglehub\n",
    "import os\n",
    "# from dotenv import load_dotenv\n",
    "\n",
    "\n",
    "# load_dotenv()\n",
    "# print(os.environ.get('KAGGLE_USERNAME'))\n",
    "\n",
    "# path = kagglehub.dataset_download(\"jessicali9530/stanford-dogs-dataset\")"
   ]
  },
  {
   "cell_type": "code",
   "execution_count": 34,
   "metadata": {},
   "outputs": [],
   "source": [
    "# Unzip file for use\n",
    "with zipfile.ZipFile(\"stanford-dogs-dataset.zip\", \"r\") as z:\n",
    "  z.extractall(\"sd_dataset\")\n",
    "\n"
   ]
  },
  {
   "cell_type": "code",
   "execution_count": 124,
   "metadata": {},
   "outputs": [],
   "source": [
    "def parseSet(setPath:str):\n",
    "  # For each item in the set path\n",
    "  allFolders = os.listdir(setPath)\n",
    "  setCollection = {}\n",
    "  \n",
    "  # for aFolder in allFolders:\n",
    "  for i in range(5):\n",
    "    # Set the current folder\n",
    "    currentFolder = allFolders[i]\n",
    "    folderItems = []\n",
    "    # for anItem in os.listdir(currentFolder):\n",
    "    for j in range(5):\n",
    "      # folderItems.append()\n",
    "      folderItems.append(os.listdir(setPath + currentFolder)[j])\n",
    "    setCollection[currentFolder] = folderItems\n",
    "  return setCollection\n",
    "\n",
    "def parseAnnotations(annotations:dict):\n",
    "  labelImageSet = {}\n",
    "  for key, value in annotations.items():\n",
    "    breedCode = key.split(\"-\", 1)[0]\n",
    "    breedName = key.split(\"-\", 1)[1]\n",
    "    breedName = breedName.replace(\"-\", \" \")\n",
    "    breedName = breedName.replace(\"_\", \" \").title()\n",
    "    labelImageSet[key] = {\"name\": breedName, \"code\":breedCode, \"annotations\": value}\n",
    "  return labelImageSet\n",
    "\n",
    "def parseImages(labels:dict, images:dict):\n",
    "  for id, imageSet in images.items():\n",
    "    # print(type(labels[id]))\n",
    "    labels[id].update({\"images\": imageSet})\n",
    "    print(labels[id])\n",
    "  "
   ]
  },
  {
   "cell_type": "code",
   "execution_count": 125,
   "metadata": {},
   "outputs": [
    {
     "name": "stdout",
     "output_type": "stream",
     "text": [
      "{'name': 'Chihuahua', 'code': 'n02085620', 'annotations': ['n02085620_10074', 'n02085620_10131', 'n02085620_10621', 'n02085620_1073', 'n02085620_10976'], 'images': ['n02085620_10074.jpg', 'n02085620_10131.jpg', 'n02085620_10621.jpg', 'n02085620_1073.jpg', 'n02085620_10976.jpg']}\n",
      "{'name': 'Japanese Spaniel', 'code': 'n02085782', 'annotations': ['n02085782_1039', 'n02085782_1058', 'n02085782_1059', 'n02085782_1077', 'n02085782_1085'], 'images': ['n02085782_1039.jpg', 'n02085782_1058.jpg', 'n02085782_1059.jpg', 'n02085782_1077.jpg', 'n02085782_1085.jpg']}\n",
      "{'name': 'Maltese Dog', 'code': 'n02085936', 'annotations': ['n02085936_10073', 'n02085936_10130', 'n02085936_10148', 'n02085936_10197', 'n02085936_10199'], 'images': ['n02085936_10073.jpg', 'n02085936_10130.jpg', 'n02085936_10148.jpg', 'n02085936_10197.jpg', 'n02085936_10199.jpg']}\n",
      "{'name': 'Pekinese', 'code': 'n02086079', 'annotations': ['n02086079_10059', 'n02086079_10159', 'n02086079_1020', 'n02086079_10294', 'n02086079_10373'], 'images': ['n02086079_10059.jpg', 'n02086079_10159.jpg', 'n02086079_1020.jpg', 'n02086079_10294.jpg', 'n02086079_10373.jpg']}\n",
      "{'name': 'Shih Tzu', 'code': 'n02086240', 'annotations': ['n02086240_1011', 'n02086240_1016', 'n02086240_1059', 'n02086240_1078', 'n02086240_10785'], 'images': ['n02086240_1011.jpg', 'n02086240_1016.jpg', 'n02086240_1059.jpg', 'n02086240_1078.jpg', 'n02086240_10785.jpg']}\n"
     ]
    }
   ],
   "source": [
    "# Get paths\n",
    "label_dir = './sd_dataset/annotations/Annotation/'\n",
    "input_dir = './sd_dataset/images/Images/'\n",
    "\n",
    "labels = parseSet(label_dir)\n",
    "inputs = parseSet(input_dir)\n",
    "\n",
    "# Organize data into data structures\n",
    "labels = parseAnnotations(labels)\n",
    "\n",
    "# Combine annotations and images\n",
    "dataSet = parseImages(labels, inputs)\n",
    "\n",
    "\n"
   ]
  }
 ],
 "metadata": {
  "kernelspec": {
   "display_name": "base",
   "language": "python",
   "name": "python3"
  },
  "language_info": {
   "codemirror_mode": {
    "name": "ipython",
    "version": 3
   },
   "file_extension": ".py",
   "mimetype": "text/x-python",
   "name": "python",
   "nbconvert_exporter": "python",
   "pygments_lexer": "ipython3",
   "version": "3.12.7"
  }
 },
 "nbformat": 4,
 "nbformat_minor": 2
}
